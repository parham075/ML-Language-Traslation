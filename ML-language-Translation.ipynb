{
 "cells": [
  {
   "cell_type": "markdown",
   "metadata": {},
   "source": [
    "# Machine Learning Language Translation from English To Persian"
   ]
  },
  {
   "cell_type": "markdown",
   "metadata": {},
   "source": [
    "## Import Dependencies"
   ]
  },
  {
   "cell_type": "code",
   "execution_count": 6,
   "metadata": {},
   "outputs": [],
   "source": [
    "from tensorflow.keras.models import Model\n",
    "from tensorflow.keras.layers import Input,LSTM,Dense\n",
    "import numpy as np\n",
    "from loguru import logger"
   ]
  },
  {
   "cell_type": "markdown",
   "metadata": {},
   "source": [
    "## Initialize parameters"
   ]
  },
  {
   "cell_type": "code",
   "execution_count": 7,
   "metadata": {},
   "outputs": [],
   "source": [
    "BATCH_SIZE= 64\n",
    "EPOCHS=100\n",
    "LATENT_DIM=256 # latent dimensionality of encoding space\n",
    "NUM_SAMPLES=2600 # number of samples to train\n",
    "DATA_PATH='./pes.txt'"
   ]
  },
  {
   "cell_type": "markdown",
   "metadata": {},
   "source": [
    "## Preprocessing"
   ]
  },
  {
   "cell_type": "code",
   "execution_count": 8,
   "metadata": {},
   "outputs": [],
   "source": [
    "# Vectorize the data\n",
    "input_texts = []\n",
    "target_texts = []\n",
    "input_characters = set()\n",
    "target_characters = set()\n",
    "with open(DATA_PATH,'r',encoding='utf-8') as file:\n",
    "  lines = file.read().split('\\n')\n",
    "for line in lines[:min(NUM_SAMPLES,len(lines)-1)]:\n",
    "  input_text, target_text , _ = line.split('\\t')\n",
    "  # The user use \"tab\" as the \"start sequence\" character\n",
    "  # for the targets, and \"\\n\" as \"end of sequence\" charecter\n",
    "  target_text = '\\t' + target_text + \"\\n\"\n",
    "  input_texts.append(input_text)\n",
    "  target_texts.append(target_text)\n",
    "  for char in input_text:\n",
    "    if char not in input_characters:\n",
    "      input_characters.add(char)\n",
    "  for char in target_text:\n",
    "    if char not in target_characters:\n",
    "      target_characters.add(char)\n",
    "    "
   ]
  },
  {
   "cell_type": "code",
   "execution_count": 12,
   "metadata": {},
   "outputs": [
    {
     "name": "stderr",
     "output_type": "stream",
     "text": [
      "\u001b[32m2024-04-06 02:38:33.552\u001b[0m | \u001b[1mINFO    \u001b[0m | \u001b[36m__main__\u001b[0m:\u001b[36m<module>\u001b[0m:\u001b[36m8\u001b[0m - \u001b[1mNumber of samples: 2600\u001b[0m\n",
      "\u001b[32m2024-04-06 02:38:33.554\u001b[0m | \u001b[1mINFO    \u001b[0m | \u001b[36m__main__\u001b[0m:\u001b[36m<module>\u001b[0m:\u001b[36m9\u001b[0m - \u001b[1mNumber of unique input tokens: 67\u001b[0m\n",
      "\u001b[32m2024-04-06 02:38:33.555\u001b[0m | \u001b[1mINFO    \u001b[0m | \u001b[36m__main__\u001b[0m:\u001b[36m<module>\u001b[0m:\u001b[36m10\u001b[0m - \u001b[1mNumber of unique target tokens: 75\u001b[0m\n",
      "\u001b[32m2024-04-06 02:38:33.555\u001b[0m | \u001b[1mINFO    \u001b[0m | \u001b[36m__main__\u001b[0m:\u001b[36m<module>\u001b[0m:\u001b[36m11\u001b[0m - \u001b[1mMax sequence length for input: 42\u001b[0m\n",
      "\u001b[32m2024-04-06 02:38:33.556\u001b[0m | \u001b[1mINFO    \u001b[0m | \u001b[36m__main__\u001b[0m:\u001b[36m<module>\u001b[0m:\u001b[36m12\u001b[0m - \u001b[1mMax sequence length for target: 65\u001b[0m\n"
     ]
    }
   ],
   "source": [
    "# extract some properties\n",
    "input_characters = sorted(list(input_characters))\n",
    "target_characters = sorted(list(target_characters))\n",
    "num_encoder_tokens = len(input_characters)\n",
    "num_decoder_tokens = len(target_characters)\n",
    "max_encoder_seq_length = max([len(txt) for txt in input_texts])\n",
    "max_decoder_seq_length = max([len(txt) for txt in target_texts])\n",
    "logger.info(f\"Number of samples: {len(input_texts)}\")\n",
    "logger.info(f\"Number of unique input tokens: {num_encoder_tokens}\", )\n",
    "logger.info(f\"Number of unique target tokens: {num_decoder_tokens}\")\n",
    "logger.info(f\"Max sequence length for input: {max_encoder_seq_length}\")\n",
    "logger.info(f\"Max sequence length for target: {max_decoder_seq_length}\")"
   ]
  }
 ],
 "metadata": {
  "kernelspec": {
   "display_name": "trnaslate",
   "language": "python",
   "name": "python3"
  },
  "language_info": {
   "codemirror_mode": {
    "name": "ipython",
    "version": 3
   },
   "file_extension": ".py",
   "mimetype": "text/x-python",
   "name": "python",
   "nbconvert_exporter": "python",
   "pygments_lexer": "ipython3",
   "version": "3.10.14"
  }
 },
 "nbformat": 4,
 "nbformat_minor": 2
}
